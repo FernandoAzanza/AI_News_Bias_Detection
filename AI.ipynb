{
    "metadata": {
        "kernelspec": {
            "name": "python3",
            "display_name": "Python 3 (ipykernel)",
            "language": "python"
        }
    },
    "nbformat": 4,
    "nbformat_minor": 5,
    "cells": [
        {
            "cell_type": "code",
            "execution_count": 1,
            "metadata": {},
            "outputs": [],
            "source": [
                "import pandas as pd"
            ]
        },
        {
            "cell_type": "code",
            "execution_count": 2,
            "metadata": {},
            "outputs": [],
            "source": [
                "fake = pd.read_excel(\"fake.use.xlsx\")"
            ]
        },
        {
            "cell_type": "code",
            "execution_count": 3,
            "metadata": {},
            "outputs": [],
            "source": [
                "true = pd.read_excel(\"true.xlsx\")"
            ]
        },
        {
            "cell_type": "code",
            "execution_count": 4,
            "metadata": {},
            "outputs": [
                {
                    "data": {
                        "text/html": "\u003cdiv\u003e\n\u003cstyle scoped\u003e\n    .dataframe tbody tr th:only-of-type {\n        vertical-align: middle;\n    }\n\n    .dataframe tbody tr th {\n        vertical-align: top;\n    }\n\n    .dataframe thead th {\n        text-align: right;\n    }\n\u003c/style\u003e\n\u003ctable border=\"1\" class=\"dataframe\"\u003e\n  \u003cthead\u003e\n    \u003ctr style=\"text-align: right;\"\u003e\n      \u003cth\u003e\u003c/th\u003e\n      \u003cth\u003etitle\u003c/th\u003e\n      \u003cth\u003etext\u003c/th\u003e\n      \u003cth\u003esubject\u003c/th\u003e\n      \u003cth\u003edate\u003c/th\u003e\n      \u003cth\u003eUnnamed: 4\u003c/th\u003e\n      \u003cth\u003eUnnamed: 5\u003c/th\u003e\n      \u003cth\u003eUnnamed: 6\u003c/th\u003e\n      \u003cth\u003eUnnamed: 7\u003c/th\u003e\n      \u003cth\u003eUnnamed: 8\u003c/th\u003e\n      \u003cth\u003eUnnamed: 9\u003c/th\u003e\n      \u003cth\u003e...\u003c/th\u003e\n      \u003cth\u003eUnnamed: 119\u003c/th\u003e\n      \u003cth\u003eUnnamed: 120\u003c/th\u003e\n      \u003cth\u003eUnnamed: 121\u003c/th\u003e\n      \u003cth\u003eUnnamed: 122\u003c/th\u003e\n      \u003cth\u003eUnnamed: 123\u003c/th\u003e\n      \u003cth\u003eUnnamed: 124\u003c/th\u003e\n      \u003cth\u003eUnnamed: 125\u003c/th\u003e\n      \u003cth\u003eUnnamed: 126\u003c/th\u003e\n      \u003cth\u003eUnnamed: 127\u003c/th\u003e\n      \u003cth\u003eUnnamed: 128\u003c/th\u003e\n    \u003c/tr\u003e\n  \u003c/thead\u003e\n  \u003ctbody\u003e\n    \u003ctr\u003e\n      \u003cth\u003e0\u003c/th\u003e\n      \u003ctd\u003eDemocrat Senator Warns Mueller Not To Release ...\u003c/td\u003e\n      \u003ctd\u003eAccording to The Hill, Democrat Senator Bob Ca...\u003c/td\u003e\n      \u003ctd\u003epolitics\u003c/td\u003e\n      \u003ctd\u003e2018-02-19 00:00:00\u003c/td\u003e\n      \u003ctd\u003eNaN\u003c/td\u003e\n      \u003ctd\u003eNaN\u003c/td\u003e\n      \u003ctd\u003eNaN\u003c/td\u003e\n      \u003ctd\u003eNaN\u003c/td\u003e\n      \u003ctd\u003eNaN\u003c/td\u003e\n      \u003ctd\u003eNaN\u003c/td\u003e\n      \u003ctd\u003e...\u003c/td\u003e\n      \u003ctd\u003eNaN\u003c/td\u003e\n      \u003ctd\u003eNaN\u003c/td\u003e\n      \u003ctd\u003eNaN\u003c/td\u003e\n      \u003ctd\u003eNaN\u003c/td\u003e\n      \u003ctd\u003eNaN\u003c/td\u003e\n      \u003ctd\u003eNaN\u003c/td\u003e\n      \u003ctd\u003eNaN\u003c/td\u003e\n      \u003ctd\u003eNaN\u003c/td\u003e\n      \u003ctd\u003eNaN\u003c/td\u003e\n      \u003ctd\u003eNaT\u003c/td\u003e\n    \u003c/tr\u003e\n    \u003ctr\u003e\n      \u003cth\u003e1\u003c/th\u003e\n      \u003ctd\u003eMSNBC ANCHOR Flabbergasted at What Texas Teach...\u003c/td\u003e\n      \u003ctd\u003eIf we protect every other government building ...\u003c/td\u003e\n      \u003ctd\u003epolitics\u003c/td\u003e\n      \u003ctd\u003e2018-02-19 00:00:00\u003c/td\u003e\n      \u003ctd\u003eNaN\u003c/td\u003e\n      \u003ctd\u003eNaN\u003c/td\u003e\n      \u003ctd\u003eNaN\u003c/td\u003e\n      \u003ctd\u003eNaN\u003c/td\u003e\n      \u003ctd\u003eNaN\u003c/td\u003e\n      \u003ctd\u003eNaN\u003c/td\u003e\n      \u003ctd\u003e...\u003c/td\u003e\n      \u003ctd\u003eNaN\u003c/td\u003e\n      \u003ctd\u003eNaN\u003c/td\u003e\n      \u003ctd\u003eNaN\u003c/td\u003e\n      \u003ctd\u003eNaN\u003c/td\u003e\n      \u003ctd\u003eNaN\u003c/td\u003e\n      \u003ctd\u003eNaN\u003c/td\u003e\n      \u003ctd\u003eNaN\u003c/td\u003e\n      \u003ctd\u003eNaN\u003c/td\u003e\n      \u003ctd\u003eNaN\u003c/td\u003e\n      \u003ctd\u003eNaT\u003c/td\u003e\n    \u003c/tr\u003e\n    \u003ctr\u003e\n      \u003cth\u003e2\u003c/th\u003e\n      \u003ctd\u003eWATCH: SNOWFLAKES ASKED Communist Party Platfo...\u003c/td\u003e\n      \u003ctd\u003eAmi Horowitz is fantastic! Check out this man ...\u003c/td\u003e\n      \u003ctd\u003epolitics\u003c/td\u003e\n      \u003ctd\u003e2018-02-19 00:00:00\u003c/td\u003e\n      \u003ctd\u003eNaN\u003c/td\u003e\n      \u003ctd\u003eNaN\u003c/td\u003e\n      \u003ctd\u003eNaN\u003c/td\u003e\n      \u003ctd\u003eNaN\u003c/td\u003e\n      \u003ctd\u003eNaN\u003c/td\u003e\n      \u003ctd\u003eNaN\u003c/td\u003e\n      \u003ctd\u003e...\u003c/td\u003e\n      \u003ctd\u003eNaN\u003c/td\u003e\n      \u003ctd\u003eNaN\u003c/td\u003e\n      \u003ctd\u003eNaN\u003c/td\u003e\n      \u003ctd\u003eNaN\u003c/td\u003e\n      \u003ctd\u003eNaN\u003c/td\u003e\n      \u003ctd\u003eNaN\u003c/td\u003e\n      \u003ctd\u003eNaN\u003c/td\u003e\n      \u003ctd\u003eNaN\u003c/td\u003e\n      \u003ctd\u003eNaN\u003c/td\u003e\n      \u003ctd\u003eNaT\u003c/td\u003e\n    \u003c/tr\u003e\n    \u003ctr\u003e\n      \u003cth\u003e3\u003c/th\u003e\n      \u003ctd\u003eJUST IN: BADASS GENERAL JOHN KELLY Shoved Chin...\u003c/td\u003e\n      \u003ctd\u003eJust one more reminder of why President Trump ...\u003c/td\u003e\n      \u003ctd\u003epolitics\u003c/td\u003e\n      \u003ctd\u003e2018-02-18 00:00:00\u003c/td\u003e\n      \u003ctd\u003eNaN\u003c/td\u003e\n      \u003ctd\u003eNaN\u003c/td\u003e\n      \u003ctd\u003eNaN\u003c/td\u003e\n      \u003ctd\u003eNaN\u003c/td\u003e\n      \u003ctd\u003eNaN\u003c/td\u003e\n      \u003ctd\u003eNaN\u003c/td\u003e\n      \u003ctd\u003e...\u003c/td\u003e\n      \u003ctd\u003eNaN\u003c/td\u003e\n      \u003ctd\u003eNaN\u003c/td\u003e\n      \u003ctd\u003eNaN\u003c/td\u003e\n      \u003ctd\u003eNaN\u003c/td\u003e\n      \u003ctd\u003eNaN\u003c/td\u003e\n      \u003ctd\u003eNaN\u003c/td\u003e\n      \u003ctd\u003eNaN\u003c/td\u003e\n      \u003ctd\u003eNaN\u003c/td\u003e\n      \u003ctd\u003eNaN\u003c/td\u003e\n      \u003ctd\u003eNaT\u003c/td\u003e\n    \u003c/tr\u003e\n    \u003ctr\u003e\n      \u003cth\u003e4\u003c/th\u003e\n      \u003ctd\u003eDOJâ€™s JEFF SESSIONS Opens Investigation Into...\u003c/td\u003e\n      \u003ctd\u003eThank goodnesss Jeff Sessions is moving on fin...\u003c/td\u003e\n      \u003ctd\u003epolitics\u003c/td\u003e\n      \u003ctd\u003e2018-02-18 00:00:00\u003c/td\u003e\n      \u003ctd\u003eNaN\u003c/td\u003e\n      \u003ctd\u003eNaN\u003c/td\u003e\n      \u003ctd\u003eNaN\u003c/td\u003e\n      \u003ctd\u003eNaN\u003c/td\u003e\n      \u003ctd\u003eNaN\u003c/td\u003e\n      \u003ctd\u003eNaN\u003c/td\u003e\n      \u003ctd\u003e...\u003c/td\u003e\n      \u003ctd\u003eNaN\u003c/td\u003e\n      \u003ctd\u003eNaN\u003c/td\u003e\n      \u003ctd\u003eNaN\u003c/td\u003e\n      \u003ctd\u003eNaN\u003c/td\u003e\n      \u003ctd\u003eNaN\u003c/td\u003e\n      \u003ctd\u003eNaN\u003c/td\u003e\n      \u003ctd\u003eNaN\u003c/td\u003e\n      \u003ctd\u003eNaN\u003c/td\u003e\n      \u003ctd\u003eNaN\u003c/td\u003e\n      \u003ctd\u003eNaT\u003c/td\u003e\n    \u003c/tr\u003e\n  \u003c/tbody\u003e\n\u003c/table\u003e\n\u003cp\u003e5 rows × 129 columns\u003c/p\u003e\n\u003c/div\u003e",
                        "text/plain": "                                               title  \\\n0  Democrat Senator Warns Mueller Not To Release ...   \n1  MSNBC ANCHOR Flabbergasted at What Texas Teach...   \n2  WATCH: SNOWFLAKES ASKED Communist Party Platfo...   \n3  JUST IN: BADASS GENERAL JOHN KELLY Shoved Chin...   \n4  DOJâ€™s JEFF SESSIONS Opens Investigation Into...   \n\n                                                text   subject  \\\n0  According to The Hill, Democrat Senator Bob Ca...  politics   \n1  If we protect every other government building ...  politics   \n2  Ami Horowitz is fantastic! Check out this man ...  politics   \n3  Just one more reminder of why President Trump ...  politics   \n4  Thank goodnesss Jeff Sessions is moving on fin...  politics   \n\n                  date Unnamed: 4 Unnamed: 5 Unnamed: 6 Unnamed: 7 Unnamed: 8  \\\n0  2018-02-19 00:00:00        NaN        NaN        NaN        NaN        NaN   \n1  2018-02-19 00:00:00        NaN        NaN        NaN        NaN        NaN   \n2  2018-02-19 00:00:00        NaN        NaN        NaN        NaN        NaN   \n3  2018-02-18 00:00:00        NaN        NaN        NaN        NaN        NaN   \n4  2018-02-18 00:00:00        NaN        NaN        NaN        NaN        NaN   \n\n  Unnamed: 9  ... Unnamed: 119 Unnamed: 120 Unnamed: 121 Unnamed: 122  \\\n0        NaN  ...          NaN          NaN          NaN          NaN   \n1        NaN  ...          NaN          NaN          NaN          NaN   \n2        NaN  ...          NaN          NaN          NaN          NaN   \n3        NaN  ...          NaN          NaN          NaN          NaN   \n4        NaN  ...          NaN          NaN          NaN          NaN   \n\n  Unnamed: 123 Unnamed: 124 Unnamed: 125 Unnamed: 126 Unnamed: 127  \\\n0          NaN          NaN          NaN          NaN          NaN   \n1          NaN          NaN          NaN          NaN          NaN   \n2          NaN          NaN          NaN          NaN          NaN   \n3          NaN          NaN          NaN          NaN          NaN   \n4          NaN          NaN          NaN          NaN          NaN   \n\n  Unnamed: 128  \n0          NaT  \n1          NaT  \n2          NaT  \n3          NaT  \n4          NaT  \n\n[5 rows x 129 columns]"
                    },
                    "execution_count": 4,
                    "metadata": {},
                    "output_type": "execute_result"
                }
            ],
            "source": [
                "fake.head()"
            ]
        },
        {
            "cell_type": "code",
            "execution_count": 5,
            "metadata": {},
            "outputs": [
                {
                    "data": {
                        "text/html": "\u003cdiv\u003e\n\u003cstyle scoped\u003e\n    .dataframe tbody tr th:only-of-type {\n        vertical-align: middle;\n    }\n\n    .dataframe tbody tr th {\n        vertical-align: top;\n    }\n\n    .dataframe thead th {\n        text-align: right;\n    }\n\u003c/style\u003e\n\u003ctable border=\"1\" class=\"dataframe\"\u003e\n  \u003cthead\u003e\n    \u003ctr style=\"text-align: right;\"\u003e\n      \u003cth\u003e\u003c/th\u003e\n      \u003cth\u003etitle\u003c/th\u003e\n      \u003cth\u003etext\u003c/th\u003e\n      \u003cth\u003esubject\u003c/th\u003e\n      \u003cth\u003edate\u003c/th\u003e\n    \u003c/tr\u003e\n  \u003c/thead\u003e\n  \u003ctbody\u003e\n    \u003ctr\u003e\n      \u003cth\u003e0\u003c/th\u003e\n      \u003ctd\u003eAs U.S. budget fight looms, Republicans flip t...\u003c/td\u003e\n      \u003ctd\u003eWASHINGTON (Reuters) - The head of a conservat...\u003c/td\u003e\n      \u003ctd\u003epoliticsNews\u003c/td\u003e\n      \u003ctd\u003e2017-12-31\u003c/td\u003e\n    \u003c/tr\u003e\n    \u003ctr\u003e\n      \u003cth\u003e1\u003c/th\u003e\n      \u003ctd\u003eU.S. military to accept transgender recruits o...\u003c/td\u003e\n      \u003ctd\u003eWASHINGTON (Reuters) - Transgender people will...\u003c/td\u003e\n      \u003ctd\u003epoliticsNews\u003c/td\u003e\n      \u003ctd\u003e2017-12-29\u003c/td\u003e\n    \u003c/tr\u003e\n    \u003ctr\u003e\n      \u003cth\u003e2\u003c/th\u003e\n      \u003ctd\u003eSenior U.S. Republican senator: 'Let Mr. Muell...\u003c/td\u003e\n      \u003ctd\u003eWASHINGTON (Reuters) - The special counsel inv...\u003c/td\u003e\n      \u003ctd\u003epoliticsNews\u003c/td\u003e\n      \u003ctd\u003e2017-12-31\u003c/td\u003e\n    \u003c/tr\u003e\n    \u003ctr\u003e\n      \u003cth\u003e3\u003c/th\u003e\n      \u003ctd\u003eFBI Russia probe helped by Australian diplomat...\u003c/td\u003e\n      \u003ctd\u003eWASHINGTON (Reuters) - Trump campaign adviser ...\u003c/td\u003e\n      \u003ctd\u003epoliticsNews\u003c/td\u003e\n      \u003ctd\u003e2017-12-30\u003c/td\u003e\n    \u003c/tr\u003e\n    \u003ctr\u003e\n      \u003cth\u003e4\u003c/th\u003e\n      \u003ctd\u003eTrump wants Postal Service to charge 'much mor...\u003c/td\u003e\n      \u003ctd\u003eSEATTLE/WASHINGTON (Reuters) - President Donal...\u003c/td\u003e\n      \u003ctd\u003epoliticsNews\u003c/td\u003e\n      \u003ctd\u003e2017-12-29\u003c/td\u003e\n    \u003c/tr\u003e\n  \u003c/tbody\u003e\n\u003c/table\u003e\n\u003c/div\u003e",
                        "text/plain": "                                               title  \\\n0  As U.S. budget fight looms, Republicans flip t...   \n1  U.S. military to accept transgender recruits o...   \n2  Senior U.S. Republican senator: 'Let Mr. Muell...   \n3  FBI Russia probe helped by Australian diplomat...   \n4  Trump wants Postal Service to charge 'much mor...   \n\n                                                text       subject       date  \n0  WASHINGTON (Reuters) - The head of a conservat...  politicsNews 2017-12-31  \n1  WASHINGTON (Reuters) - Transgender people will...  politicsNews 2017-12-29  \n2  WASHINGTON (Reuters) - The special counsel inv...  politicsNews 2017-12-31  \n3  WASHINGTON (Reuters) - Trump campaign adviser ...  politicsNews 2017-12-30  \n4  SEATTLE/WASHINGTON (Reuters) - President Donal...  politicsNews 2017-12-29  "
                    },
                    "execution_count": 5,
                    "metadata": {},
                    "output_type": "execute_result"
                }
            ],
            "source": [
                "true.head()"
            ]
        },
        {
            "cell_type": "code",
            "execution_count": 6,
            "metadata": {},
            "outputs": [],
            "source": [
                "true['subject'] = true['subject'].astype(str)"
            ]
        },
        {
            "cell_type": "code",
            "execution_count": 7,
            "metadata": {},
            "outputs": [],
            "source": [
                "#true.info()"
            ]
        },
        {
            "cell_type": "code",
            "execution_count": 8,
            "metadata": {},
            "outputs": [],
            "source": [
                "for col in fake.columns:\n",
                "    if fake[col].dtype == 'object':\n",
                "        fake[col] = fake[col].astype(str)"
            ]
        },
        {
            "cell_type": "code",
            "execution_count": 9,
            "metadata": {},
            "outputs": [],
            "source": [
                "#true.info()"
            ]
        },
        {
            "cell_type": "code",
            "execution_count": 10,
            "metadata": {},
            "outputs": [
                {
                    "data": {
                        "text/plain": "nan             18402\npoliticsNews     3008\nworldnews           7\nName: subject, dtype: int64"
                    },
                    "execution_count": 10,
                    "metadata": {},
                    "output_type": "execute_result"
                }
            ],
            "source": [
                "true['subject'].value_counts()"
            ]
        },
        {
            "cell_type": "code",
            "execution_count": 11,
            "metadata": {},
            "outputs": [],
            "source": [
                "def getting_worldNews(news):\n",
                "    if news == 'politicsNews':\n",
                "        return 1\n",
                "    else:\n",
                "        return 0"
            ]
        },
        {
            "cell_type": "code",
            "execution_count": 12,
            "metadata": {},
            "outputs": [],
            "source": [
                "true['subject_bi'] = true['subject'].apply(getting_worldNews)"
            ]
        },
        {
            "cell_type": "code",
            "execution_count": 13,
            "metadata": {},
            "outputs": [],
            "source": [
                "df_true = true[true['subject_bi'] == 1]"
            ]
        },
        {
            "cell_type": "code",
            "execution_count": 14,
            "metadata": {},
            "outputs": [],
            "source": [
                "df_true = pd.DataFrame(df_true)"
            ]
        },
        {
            "cell_type": "code",
            "execution_count": 15,
            "metadata": {},
            "outputs": [],
            "source": [
                "df_true.drop('subject_bi', inplace = True, axis=1)"
            ]
        },
        {
            "cell_type": "code",
            "execution_count": 16,
            "metadata": {},
            "outputs": [
                {
                    "data": {
                        "text/html": "\u003cdiv\u003e\n\u003cstyle scoped\u003e\n    .dataframe tbody tr th:only-of-type {\n        vertical-align: middle;\n    }\n\n    .dataframe tbody tr th {\n        vertical-align: top;\n    }\n\n    .dataframe thead th {\n        text-align: right;\n    }\n\u003c/style\u003e\n\u003ctable border=\"1\" class=\"dataframe\"\u003e\n  \u003cthead\u003e\n    \u003ctr style=\"text-align: right;\"\u003e\n      \u003cth\u003e\u003c/th\u003e\n      \u003cth\u003etitle\u003c/th\u003e\n      \u003cth\u003etext\u003c/th\u003e\n      \u003cth\u003esubject\u003c/th\u003e\n      \u003cth\u003edate\u003c/th\u003e\n    \u003c/tr\u003e\n  \u003c/thead\u003e\n  \u003ctbody\u003e\n    \u003ctr\u003e\n      \u003cth\u003e0\u003c/th\u003e\n      \u003ctd\u003eAs U.S. budget fight looms, Republicans flip t...\u003c/td\u003e\n      \u003ctd\u003eWASHINGTON (Reuters) - The head of a conservat...\u003c/td\u003e\n      \u003ctd\u003epoliticsNews\u003c/td\u003e\n      \u003ctd\u003e2017-12-31\u003c/td\u003e\n    \u003c/tr\u003e\n    \u003ctr\u003e\n      \u003cth\u003e1\u003c/th\u003e\n      \u003ctd\u003eU.S. military to accept transgender recruits o...\u003c/td\u003e\n      \u003ctd\u003eWASHINGTON (Reuters) - Transgender people will...\u003c/td\u003e\n      \u003ctd\u003epoliticsNews\u003c/td\u003e\n      \u003ctd\u003e2017-12-29\u003c/td\u003e\n    \u003c/tr\u003e\n    \u003ctr\u003e\n      \u003cth\u003e2\u003c/th\u003e\n      \u003ctd\u003eSenior U.S. Republican senator: 'Let Mr. Muell...\u003c/td\u003e\n      \u003ctd\u003eWASHINGTON (Reuters) - The special counsel inv...\u003c/td\u003e\n      \u003ctd\u003epoliticsNews\u003c/td\u003e\n      \u003ctd\u003e2017-12-31\u003c/td\u003e\n    \u003c/tr\u003e\n    \u003ctr\u003e\n      \u003cth\u003e3\u003c/th\u003e\n      \u003ctd\u003eFBI Russia probe helped by Australian diplomat...\u003c/td\u003e\n      \u003ctd\u003eWASHINGTON (Reuters) - Trump campaign adviser ...\u003c/td\u003e\n      \u003ctd\u003epoliticsNews\u003c/td\u003e\n      \u003ctd\u003e2017-12-30\u003c/td\u003e\n    \u003c/tr\u003e\n    \u003ctr\u003e\n      \u003cth\u003e4\u003c/th\u003e\n      \u003ctd\u003eTrump wants Postal Service to charge 'much mor...\u003c/td\u003e\n      \u003ctd\u003eSEATTLE/WASHINGTON (Reuters) - President Donal...\u003c/td\u003e\n      \u003ctd\u003epoliticsNews\u003c/td\u003e\n      \u003ctd\u003e2017-12-29\u003c/td\u003e\n    \u003c/tr\u003e\n  \u003c/tbody\u003e\n\u003c/table\u003e\n\u003c/div\u003e",
                        "text/plain": "                                               title  \\\n0  As U.S. budget fight looms, Republicans flip t...   \n1  U.S. military to accept transgender recruits o...   \n2  Senior U.S. Republican senator: 'Let Mr. Muell...   \n3  FBI Russia probe helped by Australian diplomat...   \n4  Trump wants Postal Service to charge 'much mor...   \n\n                                                text       subject       date  \n0  WASHINGTON (Reuters) - The head of a conservat...  politicsNews 2017-12-31  \n1  WASHINGTON (Reuters) - Transgender people will...  politicsNews 2017-12-29  \n2  WASHINGTON (Reuters) - The special counsel inv...  politicsNews 2017-12-31  \n3  WASHINGTON (Reuters) - Trump campaign adviser ...  politicsNews 2017-12-30  \n4  SEATTLE/WASHINGTON (Reuters) - President Donal...  politicsNews 2017-12-29  "
                    },
                    "execution_count": 16,
                    "metadata": {},
                    "output_type": "execute_result"
                }
            ],
            "source": [
                "df_true.head()"
            ]
        },
        {
            "cell_type": "code",
            "execution_count": 17,
            "metadata": {},
            "outputs": [
                {
                    "data": {
                        "text/plain": "politicsNews    3008\nName: subject, dtype: int64"
                    },
                    "execution_count": 17,
                    "metadata": {},
                    "output_type": "execute_result"
                }
            ],
            "source": [
                "df_true['subject'].value_counts()"
            ]
        },
        {
            "cell_type": "code",
            "execution_count": 18,
            "metadata": {},
            "outputs": [
                {
                    "data": {
                        "text/html": "\u003cdiv\u003e\n\u003cstyle scoped\u003e\n    .dataframe tbody tr th:only-of-type {\n        vertical-align: middle;\n    }\n\n    .dataframe tbody tr th {\n        vertical-align: top;\n    }\n\n    .dataframe thead th {\n        text-align: right;\n    }\n\u003c/style\u003e\n\u003ctable border=\"1\" class=\"dataframe\"\u003e\n  \u003cthead\u003e\n    \u003ctr style=\"text-align: right;\"\u003e\n      \u003cth\u003e\u003c/th\u003e\n      \u003cth\u003etitle\u003c/th\u003e\n      \u003cth\u003etext\u003c/th\u003e\n      \u003cth\u003esubject\u003c/th\u003e\n      \u003cth\u003edate\u003c/th\u003e\n      \u003cth\u003eUnnamed: 4\u003c/th\u003e\n      \u003cth\u003eUnnamed: 5\u003c/th\u003e\n      \u003cth\u003eUnnamed: 6\u003c/th\u003e\n      \u003cth\u003eUnnamed: 7\u003c/th\u003e\n      \u003cth\u003eUnnamed: 8\u003c/th\u003e\n      \u003cth\u003eUnnamed: 9\u003c/th\u003e\n      \u003cth\u003e...\u003c/th\u003e\n      \u003cth\u003eUnnamed: 119\u003c/th\u003e\n      \u003cth\u003eUnnamed: 120\u003c/th\u003e\n      \u003cth\u003eUnnamed: 121\u003c/th\u003e\n      \u003cth\u003eUnnamed: 122\u003c/th\u003e\n      \u003cth\u003eUnnamed: 123\u003c/th\u003e\n      \u003cth\u003eUnnamed: 124\u003c/th\u003e\n      \u003cth\u003eUnnamed: 125\u003c/th\u003e\n      \u003cth\u003eUnnamed: 126\u003c/th\u003e\n      \u003cth\u003eUnnamed: 127\u003c/th\u003e\n      \u003cth\u003eUnnamed: 128\u003c/th\u003e\n    \u003c/tr\u003e\n  \u003c/thead\u003e\n  \u003ctbody\u003e\n    \u003ctr\u003e\n      \u003cth\u003e0\u003c/th\u003e\n      \u003ctd\u003eDemocrat Senator Warns Mueller Not To Release ...\u003c/td\u003e\n      \u003ctd\u003eAccording to The Hill, Democrat Senator Bob Ca...\u003c/td\u003e\n      \u003ctd\u003epolitics\u003c/td\u003e\n      \u003ctd\u003e2018-02-19 00:00:00\u003c/td\u003e\n      \u003ctd\u003enan\u003c/td\u003e\n      \u003ctd\u003enan\u003c/td\u003e\n      \u003ctd\u003enan\u003c/td\u003e\n      \u003ctd\u003enan\u003c/td\u003e\n      \u003ctd\u003enan\u003c/td\u003e\n      \u003ctd\u003enan\u003c/td\u003e\n      \u003ctd\u003e...\u003c/td\u003e\n      \u003ctd\u003enan\u003c/td\u003e\n      \u003ctd\u003enan\u003c/td\u003e\n      \u003ctd\u003enan\u003c/td\u003e\n      \u003ctd\u003enan\u003c/td\u003e\n      \u003ctd\u003enan\u003c/td\u003e\n      \u003ctd\u003enan\u003c/td\u003e\n      \u003ctd\u003enan\u003c/td\u003e\n      \u003ctd\u003enan\u003c/td\u003e\n      \u003ctd\u003enan\u003c/td\u003e\n      \u003ctd\u003eNaT\u003c/td\u003e\n    \u003c/tr\u003e\n    \u003ctr\u003e\n      \u003cth\u003e1\u003c/th\u003e\n      \u003ctd\u003eMSNBC ANCHOR Flabbergasted at What Texas Teach...\u003c/td\u003e\n      \u003ctd\u003eIf we protect every other government building ...\u003c/td\u003e\n      \u003ctd\u003epolitics\u003c/td\u003e\n      \u003ctd\u003e2018-02-19 00:00:00\u003c/td\u003e\n      \u003ctd\u003enan\u003c/td\u003e\n      \u003ctd\u003enan\u003c/td\u003e\n      \u003ctd\u003enan\u003c/td\u003e\n      \u003ctd\u003enan\u003c/td\u003e\n      \u003ctd\u003enan\u003c/td\u003e\n      \u003ctd\u003enan\u003c/td\u003e\n      \u003ctd\u003e...\u003c/td\u003e\n      \u003ctd\u003enan\u003c/td\u003e\n      \u003ctd\u003enan\u003c/td\u003e\n      \u003ctd\u003enan\u003c/td\u003e\n      \u003ctd\u003enan\u003c/td\u003e\n      \u003ctd\u003enan\u003c/td\u003e\n      \u003ctd\u003enan\u003c/td\u003e\n      \u003ctd\u003enan\u003c/td\u003e\n      \u003ctd\u003enan\u003c/td\u003e\n      \u003ctd\u003enan\u003c/td\u003e\n      \u003ctd\u003eNaT\u003c/td\u003e\n    \u003c/tr\u003e\n    \u003ctr\u003e\n      \u003cth\u003e2\u003c/th\u003e\n      \u003ctd\u003eWATCH: SNOWFLAKES ASKED Communist Party Platfo...\u003c/td\u003e\n      \u003ctd\u003eAmi Horowitz is fantastic! Check out this man ...\u003c/td\u003e\n      \u003ctd\u003epolitics\u003c/td\u003e\n      \u003ctd\u003e2018-02-19 00:00:00\u003c/td\u003e\n      \u003ctd\u003enan\u003c/td\u003e\n      \u003ctd\u003enan\u003c/td\u003e\n      \u003ctd\u003enan\u003c/td\u003e\n      \u003ctd\u003enan\u003c/td\u003e\n      \u003ctd\u003enan\u003c/td\u003e\n      \u003ctd\u003enan\u003c/td\u003e\n      \u003ctd\u003e...\u003c/td\u003e\n      \u003ctd\u003enan\u003c/td\u003e\n      \u003ctd\u003enan\u003c/td\u003e\n      \u003ctd\u003enan\u003c/td\u003e\n      \u003ctd\u003enan\u003c/td\u003e\n      \u003ctd\u003enan\u003c/td\u003e\n      \u003ctd\u003enan\u003c/td\u003e\n      \u003ctd\u003enan\u003c/td\u003e\n      \u003ctd\u003enan\u003c/td\u003e\n      \u003ctd\u003enan\u003c/td\u003e\n      \u003ctd\u003eNaT\u003c/td\u003e\n    \u003c/tr\u003e\n    \u003ctr\u003e\n      \u003cth\u003e3\u003c/th\u003e\n      \u003ctd\u003eJUST IN: BADASS GENERAL JOHN KELLY Shoved Chin...\u003c/td\u003e\n      \u003ctd\u003eJust one more reminder of why President Trump ...\u003c/td\u003e\n      \u003ctd\u003epolitics\u003c/td\u003e\n      \u003ctd\u003e2018-02-18 00:00:00\u003c/td\u003e\n      \u003ctd\u003enan\u003c/td\u003e\n      \u003ctd\u003enan\u003c/td\u003e\n      \u003ctd\u003enan\u003c/td\u003e\n      \u003ctd\u003enan\u003c/td\u003e\n      \u003ctd\u003enan\u003c/td\u003e\n      \u003ctd\u003enan\u003c/td\u003e\n      \u003ctd\u003e...\u003c/td\u003e\n      \u003ctd\u003enan\u003c/td\u003e\n      \u003ctd\u003enan\u003c/td\u003e\n      \u003ctd\u003enan\u003c/td\u003e\n      \u003ctd\u003enan\u003c/td\u003e\n      \u003ctd\u003enan\u003c/td\u003e\n      \u003ctd\u003enan\u003c/td\u003e\n      \u003ctd\u003enan\u003c/td\u003e\n      \u003ctd\u003enan\u003c/td\u003e\n      \u003ctd\u003enan\u003c/td\u003e\n      \u003ctd\u003eNaT\u003c/td\u003e\n    \u003c/tr\u003e\n    \u003ctr\u003e\n      \u003cth\u003e4\u003c/th\u003e\n      \u003ctd\u003eDOJâ€™s JEFF SESSIONS Opens Investigation Into...\u003c/td\u003e\n      \u003ctd\u003eThank goodnesss Jeff Sessions is moving on fin...\u003c/td\u003e\n      \u003ctd\u003epolitics\u003c/td\u003e\n      \u003ctd\u003e2018-02-18 00:00:00\u003c/td\u003e\n      \u003ctd\u003enan\u003c/td\u003e\n      \u003ctd\u003enan\u003c/td\u003e\n      \u003ctd\u003enan\u003c/td\u003e\n      \u003ctd\u003enan\u003c/td\u003e\n      \u003ctd\u003enan\u003c/td\u003e\n      \u003ctd\u003enan\u003c/td\u003e\n      \u003ctd\u003e...\u003c/td\u003e\n      \u003ctd\u003enan\u003c/td\u003e\n      \u003ctd\u003enan\u003c/td\u003e\n      \u003ctd\u003enan\u003c/td\u003e\n      \u003ctd\u003enan\u003c/td\u003e\n      \u003ctd\u003enan\u003c/td\u003e\n      \u003ctd\u003enan\u003c/td\u003e\n      \u003ctd\u003enan\u003c/td\u003e\n      \u003ctd\u003enan\u003c/td\u003e\n      \u003ctd\u003enan\u003c/td\u003e\n      \u003ctd\u003eNaT\u003c/td\u003e\n    \u003c/tr\u003e\n  \u003c/tbody\u003e\n\u003c/table\u003e\n\u003cp\u003e5 rows × 129 columns\u003c/p\u003e\n\u003c/div\u003e",
                        "text/plain": "                                               title  \\\n0  Democrat Senator Warns Mueller Not To Release ...   \n1  MSNBC ANCHOR Flabbergasted at What Texas Teach...   \n2  WATCH: SNOWFLAKES ASKED Communist Party Platfo...   \n3  JUST IN: BADASS GENERAL JOHN KELLY Shoved Chin...   \n4  DOJâ€™s JEFF SESSIONS Opens Investigation Into...   \n\n                                                text   subject  \\\n0  According to The Hill, Democrat Senator Bob Ca...  politics   \n1  If we protect every other government building ...  politics   \n2  Ami Horowitz is fantastic! Check out this man ...  politics   \n3  Just one more reminder of why President Trump ...  politics   \n4  Thank goodnesss Jeff Sessions is moving on fin...  politics   \n\n                  date Unnamed: 4 Unnamed: 5 Unnamed: 6 Unnamed: 7 Unnamed: 8  \\\n0  2018-02-19 00:00:00        nan        nan        nan        nan        nan   \n1  2018-02-19 00:00:00        nan        nan        nan        nan        nan   \n2  2018-02-19 00:00:00        nan        nan        nan        nan        nan   \n3  2018-02-18 00:00:00        nan        nan        nan        nan        nan   \n4  2018-02-18 00:00:00        nan        nan        nan        nan        nan   \n\n  Unnamed: 9  ... Unnamed: 119 Unnamed: 120 Unnamed: 121 Unnamed: 122  \\\n0        nan  ...          nan          nan          nan          nan   \n1        nan  ...          nan          nan          nan          nan   \n2        nan  ...          nan          nan          nan          nan   \n3        nan  ...          nan          nan          nan          nan   \n4        nan  ...          nan          nan          nan          nan   \n\n  Unnamed: 123 Unnamed: 124 Unnamed: 125 Unnamed: 126 Unnamed: 127  \\\n0          nan          nan          nan          nan          nan   \n1          nan          nan          nan          nan          nan   \n2          nan          nan          nan          nan          nan   \n3          nan          nan          nan          nan          nan   \n4          nan          nan          nan          nan          nan   \n\n  Unnamed: 128  \n0          NaT  \n1          NaT  \n2          NaT  \n3          NaT  \n4          NaT  \n\n[5 rows x 129 columns]"
                    },
                    "execution_count": 18,
                    "metadata": {},
                    "output_type": "execute_result"
                }
            ],
            "source": [
                "fake.head()"
            ]
        },
        {
            "cell_type": "code",
            "execution_count": 19,
            "metadata": {},
            "outputs": [],
            "source": [
                "#fake.info()"
            ]
        },
        {
            "cell_type": "code",
            "execution_count": 20,
            "metadata": {},
            "outputs": [
                {
                    "data": {
                        "text/plain": "nan                                                                                                                          12043\npolitics                                                                                                                      3210\n there are reports of a heavy revamp of security in the hospitality industry through the use of gunfire detection systems        2\n entitled                                                                                                                        2\n of which Soros is a major financier.Mercy Corps: Vis a vis the Arab-Israeli conflict                                            1\n and seeks to transform  progressive ideas into policy through rapid response communications                                     1\nName: subject, dtype: int64"
                    },
                    "execution_count": 20,
                    "metadata": {},
                    "output_type": "execute_result"
                }
            ],
            "source": [
                "fake['subject'].value_counts()"
            ]
        },
        {
            "cell_type": "code",
            "execution_count": 21,
            "metadata": {},
            "outputs": [
                {
                    "data": {
                        "text/html": "\u003cdiv\u003e\n\u003cstyle scoped\u003e\n    .dataframe tbody tr th:only-of-type {\n        vertical-align: middle;\n    }\n\n    .dataframe tbody tr th {\n        vertical-align: top;\n    }\n\n    .dataframe thead th {\n        text-align: right;\n    }\n\u003c/style\u003e\n\u003ctable border=\"1\" class=\"dataframe\"\u003e\n  \u003cthead\u003e\n    \u003ctr style=\"text-align: right;\"\u003e\n      \u003cth\u003e\u003c/th\u003e\n      \u003cth\u003etitle\u003c/th\u003e\n      \u003cth\u003etext\u003c/th\u003e\n      \u003cth\u003esubject\u003c/th\u003e\n      \u003cth\u003edate\u003c/th\u003e\n      \u003cth\u003eUnnamed: 4\u003c/th\u003e\n      \u003cth\u003eUnnamed: 5\u003c/th\u003e\n      \u003cth\u003eUnnamed: 6\u003c/th\u003e\n      \u003cth\u003eUnnamed: 7\u003c/th\u003e\n      \u003cth\u003eUnnamed: 8\u003c/th\u003e\n      \u003cth\u003eUnnamed: 9\u003c/th\u003e\n      \u003cth\u003e...\u003c/th\u003e\n      \u003cth\u003eUnnamed: 119\u003c/th\u003e\n      \u003cth\u003eUnnamed: 120\u003c/th\u003e\n      \u003cth\u003eUnnamed: 121\u003c/th\u003e\n      \u003cth\u003eUnnamed: 122\u003c/th\u003e\n      \u003cth\u003eUnnamed: 123\u003c/th\u003e\n      \u003cth\u003eUnnamed: 124\u003c/th\u003e\n      \u003cth\u003eUnnamed: 125\u003c/th\u003e\n      \u003cth\u003eUnnamed: 126\u003c/th\u003e\n      \u003cth\u003eUnnamed: 127\u003c/th\u003e\n      \u003cth\u003eUnnamed: 128\u003c/th\u003e\n    \u003c/tr\u003e\n  \u003c/thead\u003e\n  \u003ctbody\u003e\n    \u003ctr\u003e\n      \u003cth\u003e0\u003c/th\u003e\n      \u003ctd\u003eDemocrat Senator Warns Mueller Not To Release ...\u003c/td\u003e\n      \u003ctd\u003eAccording to The Hill, Democrat Senator Bob Ca...\u003c/td\u003e\n      \u003ctd\u003epolitics\u003c/td\u003e\n      \u003ctd\u003e2018-02-19 00:00:00\u003c/td\u003e\n      \u003ctd\u003enan\u003c/td\u003e\n      \u003ctd\u003enan\u003c/td\u003e\n      \u003ctd\u003enan\u003c/td\u003e\n      \u003ctd\u003enan\u003c/td\u003e\n      \u003ctd\u003enan\u003c/td\u003e\n      \u003ctd\u003enan\u003c/td\u003e\n      \u003ctd\u003e...\u003c/td\u003e\n      \u003ctd\u003enan\u003c/td\u003e\n      \u003ctd\u003enan\u003c/td\u003e\n      \u003ctd\u003enan\u003c/td\u003e\n      \u003ctd\u003enan\u003c/td\u003e\n      \u003ctd\u003enan\u003c/td\u003e\n      \u003ctd\u003enan\u003c/td\u003e\n      \u003ctd\u003enan\u003c/td\u003e\n      \u003ctd\u003enan\u003c/td\u003e\n      \u003ctd\u003enan\u003c/td\u003e\n      \u003ctd\u003eNaT\u003c/td\u003e\n    \u003c/tr\u003e\n    \u003ctr\u003e\n      \u003cth\u003e1\u003c/th\u003e\n      \u003ctd\u003eMSNBC ANCHOR Flabbergasted at What Texas Teach...\u003c/td\u003e\n      \u003ctd\u003eIf we protect every other government building ...\u003c/td\u003e\n      \u003ctd\u003epolitics\u003c/td\u003e\n      \u003ctd\u003e2018-02-19 00:00:00\u003c/td\u003e\n      \u003ctd\u003enan\u003c/td\u003e\n      \u003ctd\u003enan\u003c/td\u003e\n      \u003ctd\u003enan\u003c/td\u003e\n      \u003ctd\u003enan\u003c/td\u003e\n      \u003ctd\u003enan\u003c/td\u003e\n      \u003ctd\u003enan\u003c/td\u003e\n      \u003ctd\u003e...\u003c/td\u003e\n      \u003ctd\u003enan\u003c/td\u003e\n      \u003ctd\u003enan\u003c/td\u003e\n      \u003ctd\u003enan\u003c/td\u003e\n      \u003ctd\u003enan\u003c/td\u003e\n      \u003ctd\u003enan\u003c/td\u003e\n      \u003ctd\u003enan\u003c/td\u003e\n      \u003ctd\u003enan\u003c/td\u003e\n      \u003ctd\u003enan\u003c/td\u003e\n      \u003ctd\u003enan\u003c/td\u003e\n      \u003ctd\u003eNaT\u003c/td\u003e\n    \u003c/tr\u003e\n    \u003ctr\u003e\n      \u003cth\u003e2\u003c/th\u003e\n      \u003ctd\u003eWATCH: SNOWFLAKES ASKED Communist Party Platfo...\u003c/td\u003e\n      \u003ctd\u003eAmi Horowitz is fantastic! Check out this man ...\u003c/td\u003e\n      \u003ctd\u003epolitics\u003c/td\u003e\n      \u003ctd\u003e2018-02-19 00:00:00\u003c/td\u003e\n      \u003ctd\u003enan\u003c/td\u003e\n      \u003ctd\u003enan\u003c/td\u003e\n      \u003ctd\u003enan\u003c/td\u003e\n      \u003ctd\u003enan\u003c/td\u003e\n      \u003ctd\u003enan\u003c/td\u003e\n      \u003ctd\u003enan\u003c/td\u003e\n      \u003ctd\u003e...\u003c/td\u003e\n      \u003ctd\u003enan\u003c/td\u003e\n      \u003ctd\u003enan\u003c/td\u003e\n      \u003ctd\u003enan\u003c/td\u003e\n      \u003ctd\u003enan\u003c/td\u003e\n      \u003ctd\u003enan\u003c/td\u003e\n      \u003ctd\u003enan\u003c/td\u003e\n      \u003ctd\u003enan\u003c/td\u003e\n      \u003ctd\u003enan\u003c/td\u003e\n      \u003ctd\u003enan\u003c/td\u003e\n      \u003ctd\u003eNaT\u003c/td\u003e\n    \u003c/tr\u003e\n    \u003ctr\u003e\n      \u003cth\u003e3\u003c/th\u003e\n      \u003ctd\u003eJUST IN: BADASS GENERAL JOHN KELLY Shoved Chin...\u003c/td\u003e\n      \u003ctd\u003eJust one more reminder of why President Trump ...\u003c/td\u003e\n      \u003ctd\u003epolitics\u003c/td\u003e\n      \u003ctd\u003e2018-02-18 00:00:00\u003c/td\u003e\n      \u003ctd\u003enan\u003c/td\u003e\n      \u003ctd\u003enan\u003c/td\u003e\n      \u003ctd\u003enan\u003c/td\u003e\n      \u003ctd\u003enan\u003c/td\u003e\n      \u003ctd\u003enan\u003c/td\u003e\n      \u003ctd\u003enan\u003c/td\u003e\n      \u003ctd\u003e...\u003c/td\u003e\n      \u003ctd\u003enan\u003c/td\u003e\n      \u003ctd\u003enan\u003c/td\u003e\n      \u003ctd\u003enan\u003c/td\u003e\n      \u003ctd\u003enan\u003c/td\u003e\n      \u003ctd\u003enan\u003c/td\u003e\n      \u003ctd\u003enan\u003c/td\u003e\n      \u003ctd\u003enan\u003c/td\u003e\n      \u003ctd\u003enan\u003c/td\u003e\n      \u003ctd\u003enan\u003c/td\u003e\n      \u003ctd\u003eNaT\u003c/td\u003e\n    \u003c/tr\u003e\n    \u003ctr\u003e\n      \u003cth\u003e4\u003c/th\u003e\n      \u003ctd\u003eDOJâ€™s JEFF SESSIONS Opens Investigation Into...\u003c/td\u003e\n      \u003ctd\u003eThank goodnesss Jeff Sessions is moving on fin...\u003c/td\u003e\n      \u003ctd\u003epolitics\u003c/td\u003e\n      \u003ctd\u003e2018-02-18 00:00:00\u003c/td\u003e\n      \u003ctd\u003enan\u003c/td\u003e\n      \u003ctd\u003enan\u003c/td\u003e\n      \u003ctd\u003enan\u003c/td\u003e\n      \u003ctd\u003enan\u003c/td\u003e\n      \u003ctd\u003enan\u003c/td\u003e\n      \u003ctd\u003enan\u003c/td\u003e\n      \u003ctd\u003e...\u003c/td\u003e\n      \u003ctd\u003enan\u003c/td\u003e\n      \u003ctd\u003enan\u003c/td\u003e\n      \u003ctd\u003enan\u003c/td\u003e\n      \u003ctd\u003enan\u003c/td\u003e\n      \u003ctd\u003enan\u003c/td\u003e\n      \u003ctd\u003enan\u003c/td\u003e\n      \u003ctd\u003enan\u003c/td\u003e\n      \u003ctd\u003enan\u003c/td\u003e\n      \u003ctd\u003enan\u003c/td\u003e\n      \u003ctd\u003eNaT\u003c/td\u003e\n    \u003c/tr\u003e\n  \u003c/tbody\u003e\n\u003c/table\u003e\n\u003cp\u003e5 rows × 129 columns\u003c/p\u003e\n\u003c/div\u003e",
                        "text/plain": "                                               title  \\\n0  Democrat Senator Warns Mueller Not To Release ...   \n1  MSNBC ANCHOR Flabbergasted at What Texas Teach...   \n2  WATCH: SNOWFLAKES ASKED Communist Party Platfo...   \n3  JUST IN: BADASS GENERAL JOHN KELLY Shoved Chin...   \n4  DOJâ€™s JEFF SESSIONS Opens Investigation Into...   \n\n                                                text   subject  \\\n0  According to The Hill, Democrat Senator Bob Ca...  politics   \n1  If we protect every other government building ...  politics   \n2  Ami Horowitz is fantastic! Check out this man ...  politics   \n3  Just one more reminder of why President Trump ...  politics   \n4  Thank goodnesss Jeff Sessions is moving on fin...  politics   \n\n                  date Unnamed: 4 Unnamed: 5 Unnamed: 6 Unnamed: 7 Unnamed: 8  \\\n0  2018-02-19 00:00:00        nan        nan        nan        nan        nan   \n1  2018-02-19 00:00:00        nan        nan        nan        nan        nan   \n2  2018-02-19 00:00:00        nan        nan        nan        nan        nan   \n3  2018-02-18 00:00:00        nan        nan        nan        nan        nan   \n4  2018-02-18 00:00:00        nan        nan        nan        nan        nan   \n\n  Unnamed: 9  ... Unnamed: 119 Unnamed: 120 Unnamed: 121 Unnamed: 122  \\\n0        nan  ...          nan          nan          nan          nan   \n1        nan  ...          nan          nan          nan          nan   \n2        nan  ...          nan          nan          nan          nan   \n3        nan  ...          nan          nan          nan          nan   \n4        nan  ...          nan          nan          nan          nan   \n\n  Unnamed: 123 Unnamed: 124 Unnamed: 125 Unnamed: 126 Unnamed: 127  \\\n0          nan          nan          nan          nan          nan   \n1          nan          nan          nan          nan          nan   \n2          nan          nan          nan          nan          nan   \n3          nan          nan          nan          nan          nan   \n4          nan          nan          nan          nan          nan   \n\n  Unnamed: 128  \n0          NaT  \n1          NaT  \n2          NaT  \n3          NaT  \n4          NaT  \n\n[5 rows x 129 columns]"
                    },
                    "execution_count": 21,
                    "metadata": {},
                    "output_type": "execute_result"
                }
            ],
            "source": [
                "fake.head()"
            ]
        },
        {
            "cell_type": "code",
            "execution_count": 22,
            "metadata": {},
            "outputs": [],
            "source": [
                "def getting_politics(news):\n",
                "    if news == 'politics':\n",
                "        return 1\n",
                "    else:\n",
                "        return 0"
            ]
        },
        {
            "cell_type": "code",
            "execution_count": 23,
            "metadata": {},
            "outputs": [
                {
                    "name": "stderr",
                    "output_type": "stream",
                    "text": "/tmp/ipykernel_61/3563989419.py:1: PerformanceWarning: DataFrame is highly fragmented.  This is usually the result of calling `frame.insert` many times, which has poor performance.  Consider joining all columns at once using pd.concat(axis=1) instead. To get a de-fragmented frame, use `newframe = frame.copy()`\n  fake['subject_bi'] = fake['subject'].apply(getting_politics)\n"
                }
            ],
            "source": [
                "fake['subject_bi'] = fake['subject'].apply(getting_politics)"
            ]
        },
        {
            "cell_type": "code",
            "execution_count": 24,
            "metadata": {},
            "outputs": [
                {
                    "data": {
                        "text/html": "\u003cdiv\u003e\n\u003cstyle scoped\u003e\n    .dataframe tbody tr th:only-of-type {\n        vertical-align: middle;\n    }\n\n    .dataframe tbody tr th {\n        vertical-align: top;\n    }\n\n    .dataframe thead th {\n        text-align: right;\n    }\n\u003c/style\u003e\n\u003ctable border=\"1\" class=\"dataframe\"\u003e\n  \u003cthead\u003e\n    \u003ctr style=\"text-align: right;\"\u003e\n      \u003cth\u003e\u003c/th\u003e\n      \u003cth\u003etitle\u003c/th\u003e\n      \u003cth\u003etext\u003c/th\u003e\n      \u003cth\u003esubject\u003c/th\u003e\n      \u003cth\u003edate\u003c/th\u003e\n      \u003cth\u003eUnnamed: 4\u003c/th\u003e\n      \u003cth\u003eUnnamed: 5\u003c/th\u003e\n      \u003cth\u003eUnnamed: 6\u003c/th\u003e\n      \u003cth\u003eUnnamed: 7\u003c/th\u003e\n      \u003cth\u003eUnnamed: 8\u003c/th\u003e\n      \u003cth\u003eUnnamed: 9\u003c/th\u003e\n      \u003cth\u003e...\u003c/th\u003e\n      \u003cth\u003eUnnamed: 120\u003c/th\u003e\n      \u003cth\u003eUnnamed: 121\u003c/th\u003e\n      \u003cth\u003eUnnamed: 122\u003c/th\u003e\n      \u003cth\u003eUnnamed: 123\u003c/th\u003e\n      \u003cth\u003eUnnamed: 124\u003c/th\u003e\n      \u003cth\u003eUnnamed: 125\u003c/th\u003e\n      \u003cth\u003eUnnamed: 126\u003c/th\u003e\n      \u003cth\u003eUnnamed: 127\u003c/th\u003e\n      \u003cth\u003eUnnamed: 128\u003c/th\u003e\n      \u003cth\u003esubject_bi\u003c/th\u003e\n    \u003c/tr\u003e\n  \u003c/thead\u003e\n  \u003ctbody\u003e\n    \u003ctr\u003e\n      \u003cth\u003e0\u003c/th\u003e\n      \u003ctd\u003eDemocrat Senator Warns Mueller Not To Release ...\u003c/td\u003e\n      \u003ctd\u003eAccording to The Hill, Democrat Senator Bob Ca...\u003c/td\u003e\n      \u003ctd\u003epolitics\u003c/td\u003e\n      \u003ctd\u003e2018-02-19 00:00:00\u003c/td\u003e\n      \u003ctd\u003enan\u003c/td\u003e\n      \u003ctd\u003enan\u003c/td\u003e\n      \u003ctd\u003enan\u003c/td\u003e\n      \u003ctd\u003enan\u003c/td\u003e\n      \u003ctd\u003enan\u003c/td\u003e\n      \u003ctd\u003enan\u003c/td\u003e\n      \u003ctd\u003e...\u003c/td\u003e\n      \u003ctd\u003enan\u003c/td\u003e\n      \u003ctd\u003enan\u003c/td\u003e\n      \u003ctd\u003enan\u003c/td\u003e\n      \u003ctd\u003enan\u003c/td\u003e\n      \u003ctd\u003enan\u003c/td\u003e\n      \u003ctd\u003enan\u003c/td\u003e\n      \u003ctd\u003enan\u003c/td\u003e\n      \u003ctd\u003enan\u003c/td\u003e\n      \u003ctd\u003eNaT\u003c/td\u003e\n      \u003ctd\u003e1\u003c/td\u003e\n    \u003c/tr\u003e\n    \u003ctr\u003e\n      \u003cth\u003e1\u003c/th\u003e\n      \u003ctd\u003eMSNBC ANCHOR Flabbergasted at What Texas Teach...\u003c/td\u003e\n      \u003ctd\u003eIf we protect every other government building ...\u003c/td\u003e\n      \u003ctd\u003epolitics\u003c/td\u003e\n      \u003ctd\u003e2018-02-19 00:00:00\u003c/td\u003e\n      \u003ctd\u003enan\u003c/td\u003e\n      \u003ctd\u003enan\u003c/td\u003e\n      \u003ctd\u003enan\u003c/td\u003e\n      \u003ctd\u003enan\u003c/td\u003e\n      \u003ctd\u003enan\u003c/td\u003e\n      \u003ctd\u003enan\u003c/td\u003e\n      \u003ctd\u003e...\u003c/td\u003e\n      \u003ctd\u003enan\u003c/td\u003e\n      \u003ctd\u003enan\u003c/td\u003e\n      \u003ctd\u003enan\u003c/td\u003e\n      \u003ctd\u003enan\u003c/td\u003e\n      \u003ctd\u003enan\u003c/td\u003e\n      \u003ctd\u003enan\u003c/td\u003e\n      \u003ctd\u003enan\u003c/td\u003e\n      \u003ctd\u003enan\u003c/td\u003e\n      \u003ctd\u003eNaT\u003c/td\u003e\n      \u003ctd\u003e1\u003c/td\u003e\n    \u003c/tr\u003e\n    \u003ctr\u003e\n      \u003cth\u003e2\u003c/th\u003e\n      \u003ctd\u003eWATCH: SNOWFLAKES ASKED Communist Party Platfo...\u003c/td\u003e\n      \u003ctd\u003eAmi Horowitz is fantastic! Check out this man ...\u003c/td\u003e\n      \u003ctd\u003epolitics\u003c/td\u003e\n      \u003ctd\u003e2018-02-19 00:00:00\u003c/td\u003e\n      \u003ctd\u003enan\u003c/td\u003e\n      \u003ctd\u003enan\u003c/td\u003e\n      \u003ctd\u003enan\u003c/td\u003e\n      \u003ctd\u003enan\u003c/td\u003e\n      \u003ctd\u003enan\u003c/td\u003e\n      \u003ctd\u003enan\u003c/td\u003e\n      \u003ctd\u003e...\u003c/td\u003e\n      \u003ctd\u003enan\u003c/td\u003e\n      \u003ctd\u003enan\u003c/td\u003e\n      \u003ctd\u003enan\u003c/td\u003e\n      \u003ctd\u003enan\u003c/td\u003e\n      \u003ctd\u003enan\u003c/td\u003e\n      \u003ctd\u003enan\u003c/td\u003e\n      \u003ctd\u003enan\u003c/td\u003e\n      \u003ctd\u003enan\u003c/td\u003e\n      \u003ctd\u003eNaT\u003c/td\u003e\n      \u003ctd\u003e1\u003c/td\u003e\n    \u003c/tr\u003e\n    \u003ctr\u003e\n      \u003cth\u003e3\u003c/th\u003e\n      \u003ctd\u003eJUST IN: BADASS GENERAL JOHN KELLY Shoved Chin...\u003c/td\u003e\n      \u003ctd\u003eJust one more reminder of why President Trump ...\u003c/td\u003e\n      \u003ctd\u003epolitics\u003c/td\u003e\n      \u003ctd\u003e2018-02-18 00:00:00\u003c/td\u003e\n      \u003ctd\u003enan\u003c/td\u003e\n      \u003ctd\u003enan\u003c/td\u003e\n      \u003ctd\u003enan\u003c/td\u003e\n      \u003ctd\u003enan\u003c/td\u003e\n      \u003ctd\u003enan\u003c/td\u003e\n      \u003ctd\u003enan\u003c/td\u003e\n      \u003ctd\u003e...\u003c/td\u003e\n      \u003ctd\u003enan\u003c/td\u003e\n      \u003ctd\u003enan\u003c/td\u003e\n      \u003ctd\u003enan\u003c/td\u003e\n      \u003ctd\u003enan\u003c/td\u003e\n      \u003ctd\u003enan\u003c/td\u003e\n      \u003ctd\u003enan\u003c/td\u003e\n      \u003ctd\u003enan\u003c/td\u003e\n      \u003ctd\u003enan\u003c/td\u003e\n      \u003ctd\u003eNaT\u003c/td\u003e\n      \u003ctd\u003e1\u003c/td\u003e\n    \u003c/tr\u003e\n    \u003ctr\u003e\n      \u003cth\u003e4\u003c/th\u003e\n      \u003ctd\u003eDOJâ€™s JEFF SESSIONS Opens Investigation Into...\u003c/td\u003e\n      \u003ctd\u003eThank goodnesss Jeff Sessions is moving on fin...\u003c/td\u003e\n      \u003ctd\u003epolitics\u003c/td\u003e\n      \u003ctd\u003e2018-02-18 00:00:00\u003c/td\u003e\n      \u003ctd\u003enan\u003c/td\u003e\n      \u003ctd\u003enan\u003c/td\u003e\n      \u003ctd\u003enan\u003c/td\u003e\n      \u003ctd\u003enan\u003c/td\u003e\n      \u003ctd\u003enan\u003c/td\u003e\n      \u003ctd\u003enan\u003c/td\u003e\n      \u003ctd\u003e...\u003c/td\u003e\n      \u003ctd\u003enan\u003c/td\u003e\n      \u003ctd\u003enan\u003c/td\u003e\n      \u003ctd\u003enan\u003c/td\u003e\n      \u003ctd\u003enan\u003c/td\u003e\n      \u003ctd\u003enan\u003c/td\u003e\n      \u003ctd\u003enan\u003c/td\u003e\n      \u003ctd\u003enan\u003c/td\u003e\n      \u003ctd\u003enan\u003c/td\u003e\n      \u003ctd\u003eNaT\u003c/td\u003e\n      \u003ctd\u003e1\u003c/td\u003e\n    \u003c/tr\u003e\n  \u003c/tbody\u003e\n\u003c/table\u003e\n\u003cp\u003e5 rows × 130 columns\u003c/p\u003e\n\u003c/div\u003e",
                        "text/plain": "                                               title  \\\n0  Democrat Senator Warns Mueller Not To Release ...   \n1  MSNBC ANCHOR Flabbergasted at What Texas Teach...   \n2  WATCH: SNOWFLAKES ASKED Communist Party Platfo...   \n3  JUST IN: BADASS GENERAL JOHN KELLY Shoved Chin...   \n4  DOJâ€™s JEFF SESSIONS Opens Investigation Into...   \n\n                                                text   subject  \\\n0  According to The Hill, Democrat Senator Bob Ca...  politics   \n1  If we protect every other government building ...  politics   \n2  Ami Horowitz is fantastic! Check out this man ...  politics   \n3  Just one more reminder of why President Trump ...  politics   \n4  Thank goodnesss Jeff Sessions is moving on fin...  politics   \n\n                  date Unnamed: 4 Unnamed: 5 Unnamed: 6 Unnamed: 7 Unnamed: 8  \\\n0  2018-02-19 00:00:00        nan        nan        nan        nan        nan   \n1  2018-02-19 00:00:00        nan        nan        nan        nan        nan   \n2  2018-02-19 00:00:00        nan        nan        nan        nan        nan   \n3  2018-02-18 00:00:00        nan        nan        nan        nan        nan   \n4  2018-02-18 00:00:00        nan        nan        nan        nan        nan   \n\n  Unnamed: 9  ... Unnamed: 120 Unnamed: 121 Unnamed: 122 Unnamed: 123  \\\n0        nan  ...          nan          nan          nan          nan   \n1        nan  ...          nan          nan          nan          nan   \n2        nan  ...          nan          nan          nan          nan   \n3        nan  ...          nan          nan          nan          nan   \n4        nan  ...          nan          nan          nan          nan   \n\n  Unnamed: 124 Unnamed: 125 Unnamed: 126 Unnamed: 127 Unnamed: 128 subject_bi  \n0          nan          nan          nan          nan          NaT          1  \n1          nan          nan          nan          nan          NaT          1  \n2          nan          nan          nan          nan          NaT          1  \n3          nan          nan          nan          nan          NaT          1  \n4          nan          nan          nan          nan          NaT          1  \n\n[5 rows x 130 columns]"
                    },
                    "execution_count": 24,
                    "metadata": {},
                    "output_type": "execute_result"
                }
            ],
            "source": [
                "fake.head()"
            ]
        },
        {
            "cell_type": "code",
            "execution_count": 25,
            "metadata": {},
            "outputs": [],
            "source": [
                "df_fake = fake[fake['subject_bi'] == 1]\n",
                "#df_fake_try = pd.DataFrame(df_fake)"
            ]
        },
        {
            "cell_type": "code",
            "execution_count": 26,
            "metadata": {},
            "outputs": [
                {
                    "data": {
                        "text/plain": "0    1\n1    1\n2    1\n3    1\n4    1\nName: subject_bi, dtype: int64"
                    },
                    "execution_count": 26,
                    "metadata": {},
                    "output_type": "execute_result"
                }
            ],
            "source": [
                "fake['subject_bi'].head()"
            ]
        },
        {
            "cell_type": "code",
            "execution_count": 27,
            "metadata": {},
            "outputs": [
                {
                    "data": {
                        "text/html": "\u003cdiv\u003e\n\u003cstyle scoped\u003e\n    .dataframe tbody tr th:only-of-type {\n        vertical-align: middle;\n    }\n\n    .dataframe tbody tr th {\n        vertical-align: top;\n    }\n\n    .dataframe thead th {\n        text-align: right;\n    }\n\u003c/style\u003e\n\u003ctable border=\"1\" class=\"dataframe\"\u003e\n  \u003cthead\u003e\n    \u003ctr style=\"text-align: right;\"\u003e\n      \u003cth\u003e\u003c/th\u003e\n      \u003cth\u003etitle\u003c/th\u003e\n      \u003cth\u003etext\u003c/th\u003e\n      \u003cth\u003esubject\u003c/th\u003e\n      \u003cth\u003edate\u003c/th\u003e\n      \u003cth\u003eUnnamed: 4\u003c/th\u003e\n      \u003cth\u003eUnnamed: 5\u003c/th\u003e\n      \u003cth\u003eUnnamed: 6\u003c/th\u003e\n      \u003cth\u003eUnnamed: 7\u003c/th\u003e\n      \u003cth\u003eUnnamed: 8\u003c/th\u003e\n      \u003cth\u003eUnnamed: 9\u003c/th\u003e\n      \u003cth\u003e...\u003c/th\u003e\n      \u003cth\u003eUnnamed: 120\u003c/th\u003e\n      \u003cth\u003eUnnamed: 121\u003c/th\u003e\n      \u003cth\u003eUnnamed: 122\u003c/th\u003e\n      \u003cth\u003eUnnamed: 123\u003c/th\u003e\n      \u003cth\u003eUnnamed: 124\u003c/th\u003e\n      \u003cth\u003eUnnamed: 125\u003c/th\u003e\n      \u003cth\u003eUnnamed: 126\u003c/th\u003e\n      \u003cth\u003eUnnamed: 127\u003c/th\u003e\n      \u003cth\u003eUnnamed: 128\u003c/th\u003e\n      \u003cth\u003esubject_bi\u003c/th\u003e\n    \u003c/tr\u003e\n  \u003c/thead\u003e\n  \u003ctbody\u003e\n    \u003ctr\u003e\n      \u003cth\u003e0\u003c/th\u003e\n      \u003ctd\u003eDemocrat Senator Warns Mueller Not To Release ...\u003c/td\u003e\n      \u003ctd\u003eAccording to The Hill, Democrat Senator Bob Ca...\u003c/td\u003e\n      \u003ctd\u003epolitics\u003c/td\u003e\n      \u003ctd\u003e2018-02-19 00:00:00\u003c/td\u003e\n      \u003ctd\u003enan\u003c/td\u003e\n      \u003ctd\u003enan\u003c/td\u003e\n      \u003ctd\u003enan\u003c/td\u003e\n      \u003ctd\u003enan\u003c/td\u003e\n      \u003ctd\u003enan\u003c/td\u003e\n      \u003ctd\u003enan\u003c/td\u003e\n      \u003ctd\u003e...\u003c/td\u003e\n      \u003ctd\u003enan\u003c/td\u003e\n      \u003ctd\u003enan\u003c/td\u003e\n      \u003ctd\u003enan\u003c/td\u003e\n      \u003ctd\u003enan\u003c/td\u003e\n      \u003ctd\u003enan\u003c/td\u003e\n      \u003ctd\u003enan\u003c/td\u003e\n      \u003ctd\u003enan\u003c/td\u003e\n      \u003ctd\u003enan\u003c/td\u003e\n      \u003ctd\u003eNaT\u003c/td\u003e\n      \u003ctd\u003e1\u003c/td\u003e\n    \u003c/tr\u003e\n    \u003ctr\u003e\n      \u003cth\u003e1\u003c/th\u003e\n      \u003ctd\u003eMSNBC ANCHOR Flabbergasted at What Texas Teach...\u003c/td\u003e\n      \u003ctd\u003eIf we protect every other government building ...\u003c/td\u003e\n      \u003ctd\u003epolitics\u003c/td\u003e\n      \u003ctd\u003e2018-02-19 00:00:00\u003c/td\u003e\n      \u003ctd\u003enan\u003c/td\u003e\n      \u003ctd\u003enan\u003c/td\u003e\n      \u003ctd\u003enan\u003c/td\u003e\n      \u003ctd\u003enan\u003c/td\u003e\n      \u003ctd\u003enan\u003c/td\u003e\n      \u003ctd\u003enan\u003c/td\u003e\n      \u003ctd\u003e...\u003c/td\u003e\n      \u003ctd\u003enan\u003c/td\u003e\n      \u003ctd\u003enan\u003c/td\u003e\n      \u003ctd\u003enan\u003c/td\u003e\n      \u003ctd\u003enan\u003c/td\u003e\n      \u003ctd\u003enan\u003c/td\u003e\n      \u003ctd\u003enan\u003c/td\u003e\n      \u003ctd\u003enan\u003c/td\u003e\n      \u003ctd\u003enan\u003c/td\u003e\n      \u003ctd\u003eNaT\u003c/td\u003e\n      \u003ctd\u003e1\u003c/td\u003e\n    \u003c/tr\u003e\n    \u003ctr\u003e\n      \u003cth\u003e2\u003c/th\u003e\n      \u003ctd\u003eWATCH: SNOWFLAKES ASKED Communist Party Platfo...\u003c/td\u003e\n      \u003ctd\u003eAmi Horowitz is fantastic! Check out this man ...\u003c/td\u003e\n      \u003ctd\u003epolitics\u003c/td\u003e\n      \u003ctd\u003e2018-02-19 00:00:00\u003c/td\u003e\n      \u003ctd\u003enan\u003c/td\u003e\n      \u003ctd\u003enan\u003c/td\u003e\n      \u003ctd\u003enan\u003c/td\u003e\n      \u003ctd\u003enan\u003c/td\u003e\n      \u003ctd\u003enan\u003c/td\u003e\n      \u003ctd\u003enan\u003c/td\u003e\n      \u003ctd\u003e...\u003c/td\u003e\n      \u003ctd\u003enan\u003c/td\u003e\n      \u003ctd\u003enan\u003c/td\u003e\n      \u003ctd\u003enan\u003c/td\u003e\n      \u003ctd\u003enan\u003c/td\u003e\n      \u003ctd\u003enan\u003c/td\u003e\n      \u003ctd\u003enan\u003c/td\u003e\n      \u003ctd\u003enan\u003c/td\u003e\n      \u003ctd\u003enan\u003c/td\u003e\n      \u003ctd\u003eNaT\u003c/td\u003e\n      \u003ctd\u003e1\u003c/td\u003e\n    \u003c/tr\u003e\n    \u003ctr\u003e\n      \u003cth\u003e3\u003c/th\u003e\n      \u003ctd\u003eJUST IN: BADASS GENERAL JOHN KELLY Shoved Chin...\u003c/td\u003e\n      \u003ctd\u003eJust one more reminder of why President Trump ...\u003c/td\u003e\n      \u003ctd\u003epolitics\u003c/td\u003e\n      \u003ctd\u003e2018-02-18 00:00:00\u003c/td\u003e\n      \u003ctd\u003enan\u003c/td\u003e\n      \u003ctd\u003enan\u003c/td\u003e\n      \u003ctd\u003enan\u003c/td\u003e\n      \u003ctd\u003enan\u003c/td\u003e\n      \u003ctd\u003enan\u003c/td\u003e\n      \u003ctd\u003enan\u003c/td\u003e\n      \u003ctd\u003e...\u003c/td\u003e\n      \u003ctd\u003enan\u003c/td\u003e\n      \u003ctd\u003enan\u003c/td\u003e\n      \u003ctd\u003enan\u003c/td\u003e\n      \u003ctd\u003enan\u003c/td\u003e\n      \u003ctd\u003enan\u003c/td\u003e\n      \u003ctd\u003enan\u003c/td\u003e\n      \u003ctd\u003enan\u003c/td\u003e\n      \u003ctd\u003enan\u003c/td\u003e\n      \u003ctd\u003eNaT\u003c/td\u003e\n      \u003ctd\u003e1\u003c/td\u003e\n    \u003c/tr\u003e\n    \u003ctr\u003e\n      \u003cth\u003e4\u003c/th\u003e\n      \u003ctd\u003eDOJâ€™s JEFF SESSIONS Opens Investigation Into...\u003c/td\u003e\n      \u003ctd\u003eThank goodnesss Jeff Sessions is moving on fin...\u003c/td\u003e\n      \u003ctd\u003epolitics\u003c/td\u003e\n      \u003ctd\u003e2018-02-18 00:00:00\u003c/td\u003e\n      \u003ctd\u003enan\u003c/td\u003e\n      \u003ctd\u003enan\u003c/td\u003e\n      \u003ctd\u003enan\u003c/td\u003e\n      \u003ctd\u003enan\u003c/td\u003e\n      \u003ctd\u003enan\u003c/td\u003e\n      \u003ctd\u003enan\u003c/td\u003e\n      \u003ctd\u003e...\u003c/td\u003e\n      \u003ctd\u003enan\u003c/td\u003e\n      \u003ctd\u003enan\u003c/td\u003e\n      \u003ctd\u003enan\u003c/td\u003e\n      \u003ctd\u003enan\u003c/td\u003e\n      \u003ctd\u003enan\u003c/td\u003e\n      \u003ctd\u003enan\u003c/td\u003e\n      \u003ctd\u003enan\u003c/td\u003e\n      \u003ctd\u003enan\u003c/td\u003e\n      \u003ctd\u003eNaT\u003c/td\u003e\n      \u003ctd\u003e1\u003c/td\u003e\n    \u003c/tr\u003e\n  \u003c/tbody\u003e\n\u003c/table\u003e\n\u003cp\u003e5 rows × 130 columns\u003c/p\u003e\n\u003c/div\u003e",
                        "text/plain": "                                               title  \\\n0  Democrat Senator Warns Mueller Not To Release ...   \n1  MSNBC ANCHOR Flabbergasted at What Texas Teach...   \n2  WATCH: SNOWFLAKES ASKED Communist Party Platfo...   \n3  JUST IN: BADASS GENERAL JOHN KELLY Shoved Chin...   \n4  DOJâ€™s JEFF SESSIONS Opens Investigation Into...   \n\n                                                text   subject  \\\n0  According to The Hill, Democrat Senator Bob Ca...  politics   \n1  If we protect every other government building ...  politics   \n2  Ami Horowitz is fantastic! Check out this man ...  politics   \n3  Just one more reminder of why President Trump ...  politics   \n4  Thank goodnesss Jeff Sessions is moving on fin...  politics   \n\n                  date Unnamed: 4 Unnamed: 5 Unnamed: 6 Unnamed: 7 Unnamed: 8  \\\n0  2018-02-19 00:00:00        nan        nan        nan        nan        nan   \n1  2018-02-19 00:00:00        nan        nan        nan        nan        nan   \n2  2018-02-19 00:00:00        nan        nan        nan        nan        nan   \n3  2018-02-18 00:00:00        nan        nan        nan        nan        nan   \n4  2018-02-18 00:00:00        nan        nan        nan        nan        nan   \n\n  Unnamed: 9  ... Unnamed: 120 Unnamed: 121 Unnamed: 122 Unnamed: 123  \\\n0        nan  ...          nan          nan          nan          nan   \n1        nan  ...          nan          nan          nan          nan   \n2        nan  ...          nan          nan          nan          nan   \n3        nan  ...          nan          nan          nan          nan   \n4        nan  ...          nan          nan          nan          nan   \n\n  Unnamed: 124 Unnamed: 125 Unnamed: 126 Unnamed: 127 Unnamed: 128 subject_bi  \n0          nan          nan          nan          nan          NaT          1  \n1          nan          nan          nan          nan          NaT          1  \n2          nan          nan          nan          nan          NaT          1  \n3          nan          nan          nan          nan          NaT          1  \n4          nan          nan          nan          nan          NaT          1  \n\n[5 rows x 130 columns]"
                    },
                    "execution_count": 27,
                    "metadata": {},
                    "output_type": "execute_result"
                }
            ],
            "source": [
                "df_fake.head()"
            ]
        },
        {
            "cell_type": "code",
            "execution_count": 28,
            "metadata": {},
            "outputs": [
                {
                    "name": "stderr",
                    "output_type": "stream",
                    "text": "/tmp/ipykernel_61/2452056911.py:1: SettingWithCopyWarning: \nA value is trying to be set on a copy of a slice from a DataFrame\n\nSee the caveats in the documentation: https://pandas.pydata.org/pandas-docs/stable/user_guide/indexing.html#returning-a-view-versus-a-copy\n  df_fake.drop('subject_bi', inplace = True, axis=1)\n"
                }
            ],
            "source": [
                "df_fake.drop('subject_bi', inplace = True, axis=1)"
            ]
        },
        {
            "cell_type": "code",
            "execution_count": 29,
            "metadata": {},
            "outputs": [
                {
                    "data": {
                        "text/plain": "0    politics\n1    politics\n2    politics\n3    politics\n4    politics\nName: subject, dtype: object"
                    },
                    "execution_count": 29,
                    "metadata": {},
                    "output_type": "execute_result"
                }
            ],
            "source": [
                "df_fake['subject'].head()"
            ]
        },
        {
            "cell_type": "code",
            "execution_count": 30,
            "metadata": {},
            "outputs": [],
            "source": [
                "columns_to_drop = [col for col in df_fake.columns if col.startswith('Unnamed:')]\n",
                "\n",
                "# Drop the columns\n",
                "df_fake = df_fake.drop(columns=columns_to_drop)"
            ]
        },
        {
            "cell_type": "code",
            "execution_count": 31,
            "metadata": {},
            "outputs": [
                {
                    "data": {
                        "text/plain": "3210"
                    },
                    "execution_count": 31,
                    "metadata": {},
                    "output_type": "execute_result"
                }
            ],
            "source": [
                "len(df_fake)"
            ]
        },
        {
            "cell_type": "code",
            "execution_count": 32,
            "metadata": {},
            "outputs": [],
            "source": [
                "df_fake.drop('date', inplace = True, axis=1)\n",
                "df_true.drop('date', inplace = True, axis=1)"
            ]
        },
        {
            "cell_type": "code",
            "execution_count": 33,
            "metadata": {},
            "outputs": [],
            "source": [
                "#df_fake.head()"
            ]
        },
        {
            "cell_type": "code",
            "execution_count": 34,
            "metadata": {},
            "outputs": [],
            "source": [
                "#df_true.head()"
            ]
        },
        {
            "cell_type": "code",
            "execution_count": 35,
            "metadata": {},
            "outputs": [],
            "source": [
                "df_true = pd.DataFrame(df_true.reset_index(drop=True))\n",
                "df_fake = pd.DataFrame(df_fake.reset_index(drop=True))"
            ]
        },
        {
            "cell_type": "code",
            "execution_count": 36,
            "metadata": {},
            "outputs": [],
            "source": [
                "df_true['subject'] = df_true['subject'].replace('politicsNews', 'politics')"
            ]
        },
        {
            "cell_type": "code",
            "execution_count": 37,
            "metadata": {},
            "outputs": [],
            "source": [
                "#df_true_use = df_true.loc[0:2000]"
            ]
        },
        {
            "cell_type": "code",
            "execution_count": 38,
            "metadata": {},
            "outputs": [],
            "source": [
                "#df_true_use = pd.DataFrame(df_true_use)"
            ]
        },
        {
            "cell_type": "code",
            "execution_count": 39,
            "metadata": {},
            "outputs": [
                {
                    "data": {
                        "text/html": "\u003cdiv\u003e\n\u003cstyle scoped\u003e\n    .dataframe tbody tr th:only-of-type {\n        vertical-align: middle;\n    }\n\n    .dataframe tbody tr th {\n        vertical-align: top;\n    }\n\n    .dataframe thead th {\n        text-align: right;\n    }\n\u003c/style\u003e\n\u003ctable border=\"1\" class=\"dataframe\"\u003e\n  \u003cthead\u003e\n    \u003ctr style=\"text-align: right;\"\u003e\n      \u003cth\u003e\u003c/th\u003e\n      \u003cth\u003etitle\u003c/th\u003e\n      \u003cth\u003etext\u003c/th\u003e\n      \u003cth\u003esubject\u003c/th\u003e\n    \u003c/tr\u003e\n  \u003c/thead\u003e\n  \u003ctbody\u003e\n    \u003ctr\u003e\n      \u003cth\u003e0\u003c/th\u003e\n      \u003ctd\u003eAs U.S. budget fight looms, Republicans flip t...\u003c/td\u003e\n      \u003ctd\u003eWASHINGTON (Reuters) - The head of a conservat...\u003c/td\u003e\n      \u003ctd\u003epolitics\u003c/td\u003e\n    \u003c/tr\u003e\n    \u003ctr\u003e\n      \u003cth\u003e1\u003c/th\u003e\n      \u003ctd\u003eU.S. military to accept transgender recruits o...\u003c/td\u003e\n      \u003ctd\u003eWASHINGTON (Reuters) - Transgender people will...\u003c/td\u003e\n      \u003ctd\u003epolitics\u003c/td\u003e\n    \u003c/tr\u003e\n    \u003ctr\u003e\n      \u003cth\u003e2\u003c/th\u003e\n      \u003ctd\u003eSenior U.S. Republican senator: 'Let Mr. Muell...\u003c/td\u003e\n      \u003ctd\u003eWASHINGTON (Reuters) - The special counsel inv...\u003c/td\u003e\n      \u003ctd\u003epolitics\u003c/td\u003e\n    \u003c/tr\u003e\n    \u003ctr\u003e\n      \u003cth\u003e3\u003c/th\u003e\n      \u003ctd\u003eFBI Russia probe helped by Australian diplomat...\u003c/td\u003e\n      \u003ctd\u003eWASHINGTON (Reuters) - Trump campaign adviser ...\u003c/td\u003e\n      \u003ctd\u003epolitics\u003c/td\u003e\n    \u003c/tr\u003e\n    \u003ctr\u003e\n      \u003cth\u003e4\u003c/th\u003e\n      \u003ctd\u003eTrump wants Postal Service to charge 'much mor...\u003c/td\u003e\n      \u003ctd\u003eSEATTLE/WASHINGTON (Reuters) - President Donal...\u003c/td\u003e\n      \u003ctd\u003epolitics\u003c/td\u003e\n    \u003c/tr\u003e\n  \u003c/tbody\u003e\n\u003c/table\u003e\n\u003c/div\u003e",
                        "text/plain": "                                               title  \\\n0  As U.S. budget fight looms, Republicans flip t...   \n1  U.S. military to accept transgender recruits o...   \n2  Senior U.S. Republican senator: 'Let Mr. Muell...   \n3  FBI Russia probe helped by Australian diplomat...   \n4  Trump wants Postal Service to charge 'much mor...   \n\n                                                text   subject  \n0  WASHINGTON (Reuters) - The head of a conservat...  politics  \n1  WASHINGTON (Reuters) - Transgender people will...  politics  \n2  WASHINGTON (Reuters) - The special counsel inv...  politics  \n3  WASHINGTON (Reuters) - Trump campaign adviser ...  politics  \n4  SEATTLE/WASHINGTON (Reuters) - President Donal...  politics  "
                    },
                    "execution_count": 39,
                    "metadata": {},
                    "output_type": "execute_result"
                }
            ],
            "source": [
                "df_true.head()"
            ]
        },
        {
            "cell_type": "code",
            "execution_count": 40,
            "metadata": {},
            "outputs": [
                {
                    "data": {
                        "text/plain": "politics    3008\nName: subject, dtype: int64"
                    },
                    "execution_count": 40,
                    "metadata": {},
                    "output_type": "execute_result"
                }
            ],
            "source": [
                "df_true['subject'].value_counts()"
            ]
        },
        {
            "cell_type": "code",
            "execution_count": 41,
            "metadata": {},
            "outputs": [],
            "source": [
                "#df_fake_use = df_fake.loc[0:2000]\n",
                "#df_fake_use = pd.DataFrame(df_fake_use)"
            ]
        },
        {
            "cell_type": "code",
            "execution_count": 42,
            "metadata": {},
            "outputs": [
                {
                    "data": {
                        "text/html": "\u003cdiv\u003e\n\u003cstyle scoped\u003e\n    .dataframe tbody tr th:only-of-type {\n        vertical-align: middle;\n    }\n\n    .dataframe tbody tr th {\n        vertical-align: top;\n    }\n\n    .dataframe thead th {\n        text-align: right;\n    }\n\u003c/style\u003e\n\u003ctable border=\"1\" class=\"dataframe\"\u003e\n  \u003cthead\u003e\n    \u003ctr style=\"text-align: right;\"\u003e\n      \u003cth\u003e\u003c/th\u003e\n      \u003cth\u003etitle\u003c/th\u003e\n      \u003cth\u003etext\u003c/th\u003e\n      \u003cth\u003esubject\u003c/th\u003e\n    \u003c/tr\u003e\n  \u003c/thead\u003e\n  \u003ctbody\u003e\n    \u003ctr\u003e\n      \u003cth\u003e0\u003c/th\u003e\n      \u003ctd\u003eDemocrat Senator Warns Mueller Not To Release ...\u003c/td\u003e\n      \u003ctd\u003eAccording to The Hill, Democrat Senator Bob Ca...\u003c/td\u003e\n      \u003ctd\u003epolitics\u003c/td\u003e\n    \u003c/tr\u003e\n    \u003ctr\u003e\n      \u003cth\u003e1\u003c/th\u003e\n      \u003ctd\u003eMSNBC ANCHOR Flabbergasted at What Texas Teach...\u003c/td\u003e\n      \u003ctd\u003eIf we protect every other government building ...\u003c/td\u003e\n      \u003ctd\u003epolitics\u003c/td\u003e\n    \u003c/tr\u003e\n    \u003ctr\u003e\n      \u003cth\u003e2\u003c/th\u003e\n      \u003ctd\u003eWATCH: SNOWFLAKES ASKED Communist Party Platfo...\u003c/td\u003e\n      \u003ctd\u003eAmi Horowitz is fantastic! Check out this man ...\u003c/td\u003e\n      \u003ctd\u003epolitics\u003c/td\u003e\n    \u003c/tr\u003e\n    \u003ctr\u003e\n      \u003cth\u003e3\u003c/th\u003e\n      \u003ctd\u003eJUST IN: BADASS GENERAL JOHN KELLY Shoved Chin...\u003c/td\u003e\n      \u003ctd\u003eJust one more reminder of why President Trump ...\u003c/td\u003e\n      \u003ctd\u003epolitics\u003c/td\u003e\n    \u003c/tr\u003e\n    \u003ctr\u003e\n      \u003cth\u003e4\u003c/th\u003e\n      \u003ctd\u003eDOJâ€™s JEFF SESSIONS Opens Investigation Into...\u003c/td\u003e\n      \u003ctd\u003eThank goodnesss Jeff Sessions is moving on fin...\u003c/td\u003e\n      \u003ctd\u003epolitics\u003c/td\u003e\n    \u003c/tr\u003e\n  \u003c/tbody\u003e\n\u003c/table\u003e\n\u003c/div\u003e",
                        "text/plain": "                                               title  \\\n0  Democrat Senator Warns Mueller Not To Release ...   \n1  MSNBC ANCHOR Flabbergasted at What Texas Teach...   \n2  WATCH: SNOWFLAKES ASKED Communist Party Platfo...   \n3  JUST IN: BADASS GENERAL JOHN KELLY Shoved Chin...   \n4  DOJâ€™s JEFF SESSIONS Opens Investigation Into...   \n\n                                                text   subject  \n0  According to The Hill, Democrat Senator Bob Ca...  politics  \n1  If we protect every other government building ...  politics  \n2  Ami Horowitz is fantastic! Check out this man ...  politics  \n3  Just one more reminder of why President Trump ...  politics  \n4  Thank goodnesss Jeff Sessions is moving on fin...  politics  "
                    },
                    "execution_count": 42,
                    "metadata": {},
                    "output_type": "execute_result"
                }
            ],
            "source": [
                "df_fake.head()"
            ]
        },
        {
            "cell_type": "code",
            "execution_count": 43,
            "metadata": {},
            "outputs": [
                {
                    "data": {
                        "text/plain": "politics    3210\nName: subject, dtype: int64"
                    },
                    "execution_count": 43,
                    "metadata": {},
                    "output_type": "execute_result"
                }
            ],
            "source": [
                "df_fake['subject'].value_counts()"
            ]
        },
        {
            "cell_type": "code",
            "execution_count": 44,
            "metadata": {},
            "outputs": [
                {
                    "data": {
                        "text/plain": "0    3210\n1    3008\nName: label, dtype: int64"
                    },
                    "execution_count": 44,
                    "metadata": {},
                    "output_type": "execute_result"
                }
            ],
            "source": [
                "# Add label column to true dataframe and set it to 1\n",
                "df_true['label'] = 1\n",
                "\n",
                "# Add label column to fake dataframe and set it to 0\n",
                "df_fake['label'] = 0\n",
                "\n",
                "# Concatenate the two dataframes\n",
                "df = pd.concat([df_true, df_fake], ignore_index=True)\n",
                "\n",
                "# Shuffle the rows\n",
                "df = df.sample(frac=1).reset_index(drop=True)\n",
                "\n",
                "# Check the distribution of labels\n",
                "df['label'].value_counts()\n",
                ""
            ]
        },
        {
            "cell_type": "code",
            "execution_count": 45,
            "metadata": {},
            "outputs": [
                {
                    "name": "stderr",
                    "output_type": "stream",
                    "text": "[nltk_data] Downloading package stopwords to /home/nltk_data...\n[nltk_data]   Package stopwords is already up-to-date!\n"
                }
            ],
            "source": [
                "# Removing unwanted characters. Using the nltk library in Python.\n",
                "\n",
                "import nltk\n",
                "nltk.download('stopwords')\n",
                "from nltk.corpus import stopwords\n",
                "from nltk.tokenize import word_tokenize\n",
                "import string\n",
                "\n",
                "# Define function to preprocess text\n",
                "def preprocess_text(text):\n",
                "    # Remove punctuation\n",
                "    text = text.translate(str.maketrans('', '', string.punctuation))\n",
                "    \n",
                "    # Convert to lowercase\n",
                "    text = text.lower()\n",
                "    \n",
                "    # Tokenize text\n",
                "    words = word_tokenize(text)\n",
                "    \n",
                "    # Remove stopwords\n",
                "    stop_words = set(stopwords.words('english'))\n",
                "    words = [w for w in words if not w in stop_words]\n",
                "    \n",
                "    # Join words back into string\n",
                "    text = ' '.join(words)\n",
                "    \n",
                "    return text\n",
                "\n",
                "# Apply preprocessing function to text column in dataframe\n",
                "df['text'] = df['text'].apply(preprocess_text)\n",
                ""
            ]
        },
        {
            "cell_type": "code",
            "execution_count": 46,
            "metadata": {},
            "outputs": [
                {
                    "name": "stdout",
                    "output_type": "stream",
                    "text": "Training set size: 4974\nTesting set size: 1244\n"
                }
            ],
            "source": [
                "# Now that the text data has been preprocessed, we split the dataframe \n",
                "# into training and testing sets using the train_test_split function from sklearn. \n",
                "# We'll use 80% of the data for training and 20% for testing.\n",
                "\n",
                "from sklearn.model_selection import train_test_split\n",
                "\n",
                "# Split dataframe into training and testing sets\n",
                "X_train, X_test, y_train, y_test = train_test_split(df['text'], df['label'], test_size=0.2, random_state=42)\n",
                "\n",
                "# Check the size of the training and testing sets\n",
                "print(f'Training set size: {len(X_train)}')\n",
                "print(f'Testing set size: {len(X_test)}')\n",
                ""
            ]
        },
        {
            "cell_type": "code",
            "execution_count": 47,
            "metadata": {},
            "outputs": [],
            "source": [
                "# Finally, we  train a machine learning model on the training set and evaluate its \n",
                "# performance on the testing set. Using a logistic regression model.\n",
                "\n",
                "from sklearn.feature_extraction.text import TfidfVectorizer\n",
                "from sklearn.linear_model import LogisticRegression\n",
                "from sklearn.metrics import accuracy_score, precision_score, recall_score, f1_score\n",
                "\n",
                "# Convert text data to numerical features using TF-IDF vectorization\n",
                "vectorizer = TfidfVectorizer()\n",
                "X_train_vec = vectorizer.fit_transform(X_train)\n",
                "X_test_vec = vectorizer.transform(X_test)\n",
                "\n",
                "# Train logistic regression model on training data\n",
                "model = LogisticRegression(random_state=42)\n",
                "model.fit(X_train_vec, y_train)\n",
                "\n",
                "# Make predictions on testing data\n",
                "y_pred = model.predict(X_test_vec)\n",
                ""
            ]
        },
        {
            "cell_type": "code",
            "execution_count": 48,
            "metadata": {},
            "outputs": [
                {
                    "name": "stdout",
                    "output_type": "stream",
                    "text": "Model run succesfully!!\n"
                }
            ],
            "source": [
                "print(\"Model run succesfully!!\")"
            ]
        },
        {
            "cell_type": "code",
            "execution_count": 49,
            "metadata": {},
            "outputs": [
                {
                    "name": "stdout",
                    "output_type": "stream",
                    "text": "Accuracy: 0.97508038585209\nPrecision: 0.97\nRecall: 0.9781512605042016\nF1-Score: 0.9740585774058578\n"
                }
            ],
            "source": [
                "# Make predictions on testing data\n",
                "y_pred = model.predict(X_test_vec)\n",
                "\n",
                "# Calculate and print the accuracy, precision, recall, and F1-score of the model\n",
                "print(\"Accuracy:\", accuracy_score(y_test, y_pred))\n",
                "print(\"Precision:\", precision_score(y_test, y_pred))\n",
                "print(\"Recall:\", recall_score(y_test, y_pred))\n",
                "print(\"F1-Score:\", f1_score(y_test, y_pred))\n",
                "\n",
                "# This prints out the accuracy, precision, recall, and F1-score of our logistic regression \n",
                "# model on the testing data. These are used to evaluate the performance of our model \n",
                "# and demonstrate its effectiveness"
            ]
        },
        {
            "cell_type": "code",
            "execution_count": 50,
            "metadata": {},
            "outputs": [
                {
                    "name": "stdout",
                    "output_type": "stream",
                    "text": "Article:\nreuters michael flynn president donald trumpâ€™s first us national security adviser pleaded guilty friday lying federal bureau investigation contacts russiaâ€™s us ambassador five facts flynn flynn national security adviser 24 days jan 20 trump took office feb 13 flynn fired following disclosures discussed us sanctions russia sergey kislyak moscowâ€™s us ambassador misled vice president mike pence conversations feb 14 trump asked thenfbi director james comey oval office meeting end agencyâ€™s investigation ties flynn russia according news media reports trump fired comey may 9 later denied making request trump named former army lieutenant general national security post despite red flags flynnâ€™s russian contacts advocacy warmer us relations moscow us economic sanctions years outgoing president barack obama warned trump hire flynn fired democratic president 2014 flynn early vociferous trump supporter new york businessmanâ€™s 2016 white house run made vitriolic appearances campaign trail notably leading republican national convention chants â€œlock upâ€ referring trumpâ€™s democratic rival former secretary state hillary clinton addition flynnâ€™s contacts russia special counsel robert muellerâ€™s investigation possible ties trump election campaign moscow expanded probe include flynnâ€™s paid work lobbyist turkish businessman 2016 people knowledge inquiry told reuters\n\nTrue Label:\nTrue News\n\nModel Prediction:\nTrue News\n\n---------------------------\n\nArticle:\narizona republican verbal putdown dictator kim jong un earlier month crazy fat kid met stiff angry response communist regime warned mccain dire consequences follow guys john mccain ted cruz made provocation tantamount declaration war korea dprk take steps counter said official dprk statement published korean central news agency bitterly experience disastrous consequences entailed reckless tonguelashing regret come late statement also coming wake cruz efforts label north korea state sponsor terror went characterize mccain cruz like puppy knowing fear tiger mccain wednesday tweet responded want call crazy skinny kid kim jong un 33yearold strongman presides starving populace estimated weigh upwards 275 pounds reportedly suffers goutmccain made crack tubby tinhorn march 22 interview also advocated pressuring china helping moderate increasingly hostile behavior north korea china one control kim jong un crazy fat kid running north korea mccain said msnbc could stop north korea economy week via fox news\n\nTrue Label:\nFake News\n\nModel Prediction:\nFake News\n\n---------------------------\n\nArticle:\nrich guy opened borders criminals obama era telling us statues homeland security threat former obama administration official jeh johnson said week martha raditz removal confederate statues matter public safety homeland security sunday oh brothera single protest removal statue robert e lee turned violent last week charlottesville wv sight engineered confrontation two groups got hand police officers told stand downjeh johnson served secretary homeland security obama failed miserably keep homeland secure mess president trump trying clean johnson allowed violent gangs like ms13 enter towns across america allowed thousands illegal alien minor children roam free johnson responsible much illegal alien crime seeing lawless policy obama johnson hurt many americansso johnson saying problem rallying americans want keep confederate statues violent ones violence coming antifa black lives matter leftthis true alarms many us security perspective many statues confederate monuments modernday becoming symbols rallying points white nationalism neonazis kkk alarming johnson said fought world war naziism kkk reigned terror african americans generations salute cities states taking lot monuments reasons public safety security added matter political correctness matter public safety homeland security right host martha raddatz said felt trump administration would call slippery slope referring local washington locations like washingtonlee high school jefferson davis highway stop raddatz askedjohnson said kinds decisions made local levelpresident donald trump slammed removal monuments foolish ripping apart history culture great country trump right\n\nTrue Label:\nFake News\n\nModel Prediction:\nFake News\n\n---------------------------\n\nArticle:\nwashington reuters us treasury secretary steven mnuchin said sunday regret using government plane travel kentucky august wife view solar eclipse speak business leaders calling â€œcompletely justifiableâ€ mnuchinâ€™s use plane taxpayersâ€™ expense prompted outcry democratic lawmakers interest groups spurred government watchdog begin examining whether violated travel ethics policies â€œit approved white house reasons needed use plane completely justifiableâ€ said nbcâ€™s â€œmeet pressâ€ program cabinet members rarely use government planes chartered aircraft domestic travel practice received significant attention wake mnuchinâ€™s trip friday former health human services secretary tom price resigned outcry use private charter planes government business cost nearly 52000 mnuchin told nbc would use private plane government purposes â€œif either national security issue couldnâ€™t get somewhereâ€ treasury department described mnuchinâ€™s trip august official government travel mnuchin spoke business leaders louisville visited fort knox site significant us gold reserves mnuchin wife louise linton also viewed aug 21 solar eclipse kentucky senate majority leader mitch mcconnell others public uproar trip began mount linton posted photo deboarding plane social media listed expensive designer brands wearing caption\n\nTrue Label:\nTrue News\n\nModel Prediction:\nTrue News\n\n---------------------------\n\nArticle:\ndonald trump jr slammed kathy griffin playing victim huge backlash beheading trump photo saying deserves whatever gets run claim victimhood deserves everything coming donald trump jr said tuesday abc good morning america griffin initially apologized posing disturbing image cnn dropped annual new year eve special alongside anderson cooperhowever reversed course friday press conference alongside civil rights attorney lisa bloom tearfully said trump family bullying broke griffin erratic demeanor widely panned usa today said dlist showing salon called mad looping\n\nTrue Label:\nFake News\n\nModel Prediction:\nFake News\n\n---------------------------\n\n"
                }
            ],
            "source": [
                "# Choose some random articles from the test set\n",
                "sample_articles = X_test.sample(n=5, random_state=42)\n",
                "\n",
                "# Make predictions on the sample articles\n",
                "predictions = model.predict(vectorizer.transform(sample_articles))\n",
                "\n",
                "# Get the corresponding true labels for the sample articles\n",
                "true_labels = y_test.loc[sample_articles.index]\n",
                "\n",
                "# Print out the sample articles, their true labels, and the model's predictions\n",
                "for i in range(len(sample_articles)):\n",
                "    print(\"Article:\")\n",
                "    print(sample_articles.iloc[i])\n",
                "    print(\"\\nTrue Label:\")\n",
                "    if true_labels.iloc[i] == 0:\n",
                "        print(\"Fake News\")\n",
                "    else:\n",
                "        print(\"True News\")\n",
                "    print(\"\\nModel Prediction:\")\n",
                "    if predictions[i] == 0:\n",
                "        print(\"Fake News\")\n",
                "    else:\n",
                "        print(\"True News\")\n",
                "    print(\"\\n---------------------------\\n\")\n",
                "\n",
                "# This code will choose five random articles from the test set, make predictions on them using \n",
                "# the trained model, and print out the article text, the true label, and the model's prediction \n",
                "# for each article. To demonstrate how the model can correctly identify both fake news and true news.\n",
                ""
            ]
        }
    ]
}
